{
  "cells": [
    {
      "cell_type": "markdown",
      "metadata": {
        "id": "ptmKeD_1hnAJ"
      },
      "source": [
        "# BigFrames LLM\n",
        "@johanesalxd"
      ]
    },
    {
      "cell_type": "markdown",
      "metadata": {
        "id": "32tdFUdqhnAL"
      },
      "source": [
        "## Setup"
      ]
    },
    {
      "cell_type": "code",
      "execution_count": 1,
      "metadata": {
        "executionInfo": {
          "elapsed": 2618,
          "status": "ok",
          "timestamp": 1724119462174,
          "user": {
            "displayName": "",
            "userId": ""
          },
          "user_tz": -480
        },
        "id": "NLq8zHzahnAM"
      },
      "outputs": [],
      "source": [
        "import bigframes.pandas\n",
        "import pandas as pd\n",
        "from bigframes.ml.llm import GeminiTextGenerator"
      ]
    },
    {
      "cell_type": "markdown",
      "metadata": {
        "id": "GoZ5VlwEhnAN"
      },
      "source": [
        "## Define the model"
      ]
    },
    {
      "cell_type": "code",
      "execution_count": 3,
      "metadata": {
        "colab": {
          "base_uri": "https://localhost:8080/",
          "height": 34
        },
        "executionInfo": {
          "elapsed": 3047,
          "status": "ok",
          "timestamp": 1724119575792,
          "user": {
            "displayName": "",
            "userId": ""
          },
          "user_tz": -480
        },
        "id": "AjQYT3ehhnAO",
        "outputId": "250b6556-39fb-47b0-b113-8a9fb9859e97"
      },
      "outputs": [
        {
          "data": {
            "text/html": [
              "Query job 7f9b1ab5-49ed-401f-8000-eb2261b28e48 is DONE. 0 Bytes processed. <a target=\"_blank\" href=\"https://console.cloud.google.com/bigquery?project=johanesa-playground-326616&j=bq:US:7f9b1ab5-49ed-401f-8000-eb2261b28e48&page=queryresults\">Open Job</a>"
            ],
            "text/plain": [
              "<IPython.core.display.HTML object>"
            ]
          },
          "metadata": {},
          "output_type": "display_data"
        }
      ],
      "source": [
        "model = GeminiTextGenerator()"
      ]
    },
    {
      "cell_type": "markdown",
      "metadata": {
        "id": "t2qXE4QdhnAP"
      },
      "source": [
        "## Create Sample Data\n",
        "\n",
        "Read as a BigQuery DataFrames."
      ]
    },
    {
      "cell_type": "code",
      "execution_count": 4,
      "metadata": {
        "executionInfo": {
          "elapsed": 5,
          "status": "ok",
          "timestamp": 1724119581332,
          "user": {
            "displayName": "",
            "userId": ""
          },
          "user_tz": -480
        },
        "id": "qG0J-2exhnAQ"
      },
      "outputs": [],
      "source": [
        "df = pd.DataFrame(\n",
        "    {\n",
        "        \"prompt\": [\"What is BigQuery?\", \"What is BQML?\", \"What is BigQuery DataFrame?\"],\n",
        "    }\n",
        ")\n",
        "bf_df = bigframes.pandas.read_pandas(df)"
      ]
    },
    {
      "cell_type": "markdown",
      "metadata": {
        "id": "dft_IlyPhnAQ"
      },
      "source": [
        "## Make Predictions"
      ]
    },
    {
      "cell_type": "code",
      "execution_count": 5,
      "metadata": {
        "colab": {
          "base_uri": "https://localhost:8080/",
          "height": 250
        },
        "executionInfo": {
          "elapsed": 18812,
          "status": "ok",
          "timestamp": 1724119620153,
          "user": {
            "displayName": "",
            "userId": ""
          },
          "user_tz": -480
        },
        "id": "3iFYKAfBhnAR",
        "outputId": "bf64340e-ffa0-42bb-e294-e73648e52dbf"
      },
      "outputs": [
        {
          "data": {
            "text/html": [
              "Query job c4c5f975-a820-4321-b5e5-6f0f947d0b76 is DONE. 0 Bytes processed. <a target=\"_blank\" href=\"https://console.cloud.google.com/bigquery?project=johanesa-playground-326616&j=bq:US:c4c5f975-a820-4321-b5e5-6f0f947d0b76&page=queryresults\">Open Job</a>"
            ],
            "text/plain": [
              "<IPython.core.display.HTML object>"
            ]
          },
          "metadata": {},
          "output_type": "display_data"
        },
        {
          "name": "stderr",
          "output_type": "stream",
          "text": [
            "/usr/local/lib/python3.10/dist-packages/bigframes/core/__init__.py:108: PreviewWarning: Interpreting JSON column(s) as StringDtype. This behavior may change in future versions.\n",
            "  warnings.warn(\n"
          ]
        },
        {
          "data": {
            "text/html": [
              "Query job 3eac7996-edfc-453b-baa9-b1e0ef8b1802 is DONE. 6 Bytes processed. <a target=\"_blank\" href=\"https://console.cloud.google.com/bigquery?project=johanesa-playground-326616&j=bq:US:3eac7996-edfc-453b-baa9-b1e0ef8b1802&page=queryresults\">Open Job</a>"
            ],
            "text/plain": [
              "<IPython.core.display.HTML object>"
            ]
          },
          "metadata": {},
          "output_type": "display_data"
        },
        {
          "data": {
            "text/html": [
              "Query job 360b47bf-1fb3-46ef-92cf-46cde3af43c5 is DONE. 8.4 kB processed. <a target=\"_blank\" href=\"https://console.cloud.google.com/bigquery?project=johanesa-playground-326616&j=bq:US:360b47bf-1fb3-46ef-92cf-46cde3af43c5&page=queryresults\">Open Job</a>"
            ],
            "text/plain": [
              "<IPython.core.display.HTML object>"
            ]
          },
          "metadata": {},
          "output_type": "display_data"
        },
        {
          "data": {
            "text/html": [
              "\n",
              "  <div id=\"df-fb61d476-e177-4caf-a334-ecffa1a3245f\" class=\"colab-df-container\">\n",
              "    <div>\n",
              "<style scoped>\n",
              "    .dataframe tbody tr th:only-of-type {\n",
              "        vertical-align: middle;\n",
              "    }\n",
              "\n",
              "    .dataframe tbody tr th {\n",
              "        vertical-align: top;\n",
              "    }\n",
              "\n",
              "    .dataframe thead th {\n",
              "        text-align: right;\n",
              "    }\n",
              "</style>\n",
              "<table border=\"1\" class=\"dataframe\">\n",
              "  <thead>\n",
              "    <tr style=\"text-align: right;\">\n",
              "      <th></th>\n",
              "      <th>ml_generate_text_llm_result</th>\n",
              "      <th>ml_generate_text_rai_result</th>\n",
              "      <th>ml_generate_text_status</th>\n",
              "      <th>prompt</th>\n",
              "    </tr>\n",
              "  </thead>\n",
              "  <tbody>\n",
              "    <tr>\n",
              "      <th>0</th>\n",
              "      <td>## BigQuery: A Serverless Cloud Data Warehouse...</td>\n",
              "      <td>[{\"category\":1,\"probability\":1,\"probability_sc...</td>\n",
              "      <td></td>\n",
              "      <td>What is BigQuery?</td>\n",
              "    </tr>\n",
              "    <tr>\n",
              "      <th>1</th>\n",
              "      <td>## BQML: BigQuery Machine Learning\n",
              "\n",
              "BQML is a ...</td>\n",
              "      <td>[{\"category\":1,\"probability\":1,\"probability_sc...</td>\n",
              "      <td></td>\n",
              "      <td>What is BQML?</td>\n",
              "    </tr>\n",
              "    <tr>\n",
              "      <th>2</th>\n",
              "      <td>## BigQuery DataFrame \n",
              "\n",
              "A BigQuery DataFrame i...</td>\n",
              "      <td>[{\"category\":1,\"probability\":1,\"probability_sc...</td>\n",
              "      <td></td>\n",
              "      <td>What is BigQuery DataFrame?</td>\n",
              "    </tr>\n",
              "  </tbody>\n",
              "</table>\n",
              "</div>\n",
              "    <div class=\"colab-df-buttons\">\n",
              "\n",
              "  <div class=\"colab-df-container\">\n",
              "    <button class=\"colab-df-convert\" onclick=\"convertToInteractive('df-fb61d476-e177-4caf-a334-ecffa1a3245f')\"\n",
              "            title=\"Convert this dataframe to an interactive table.\"\n",
              "            style=\"display:none;\">\n",
              "\n",
              "  <svg xmlns=\"http://www.w3.org/2000/svg\" height=\"24px\" viewBox=\"0 -960 960 960\">\n",
              "    <path d=\"M120-120v-720h720v720H120Zm60-500h600v-160H180v160Zm220 220h160v-160H400v160Zm0 220h160v-160H400v160ZM180-400h160v-160H180v160Zm440 0h160v-160H620v160ZM180-180h160v-160H180v160Zm440 0h160v-160H620v160Z\"/>\n",
              "  </svg>\n",
              "    </button>\n",
              "\n",
              "  <style>\n",
              "    .colab-df-container {\n",
              "      display:flex;\n",
              "      gap: 12px;\n",
              "    }\n",
              "\n",
              "    .colab-df-convert {\n",
              "      background-color: #E8F0FE;\n",
              "      border: none;\n",
              "      border-radius: 50%;\n",
              "      cursor: pointer;\n",
              "      display: none;\n",
              "      fill: #1967D2;\n",
              "      height: 32px;\n",
              "      padding: 0 0 0 0;\n",
              "      width: 32px;\n",
              "    }\n",
              "\n",
              "    .colab-df-convert:hover {\n",
              "      background-color: #E2EBFA;\n",
              "      box-shadow: 0px 1px 2px rgba(60, 64, 67, 0.3), 0px 1px 3px 1px rgba(60, 64, 67, 0.15);\n",
              "      fill: #174EA6;\n",
              "    }\n",
              "\n",
              "    .colab-df-buttons div {\n",
              "      margin-bottom: 4px;\n",
              "    }\n",
              "\n",
              "    [theme=dark] .colab-df-convert {\n",
              "      background-color: #3B4455;\n",
              "      fill: #D2E3FC;\n",
              "    }\n",
              "\n",
              "    [theme=dark] .colab-df-convert:hover {\n",
              "      background-color: #434B5C;\n",
              "      box-shadow: 0px 1px 3px 1px rgba(0, 0, 0, 0.15);\n",
              "      filter: drop-shadow(0px 1px 2px rgba(0, 0, 0, 0.3));\n",
              "      fill: #FFFFFF;\n",
              "    }\n",
              "  </style>\n",
              "\n",
              "    <script>\n",
              "      const buttonEl =\n",
              "        document.querySelector('#df-fb61d476-e177-4caf-a334-ecffa1a3245f button.colab-df-convert');\n",
              "      buttonEl.style.display =\n",
              "        google.colab.kernel.accessAllowed ? 'block' : 'none';\n",
              "\n",
              "      async function convertToInteractive(key) {\n",
              "        const element = document.querySelector('#df-fb61d476-e177-4caf-a334-ecffa1a3245f');\n",
              "        const dataTable =\n",
              "          await google.colab.kernel.invokeFunction('convertToInteractive',\n",
              "                                                    [key], {});\n",
              "        if (!dataTable) return;\n",
              "\n",
              "        const docLinkHtml = 'Like what you see? Visit the ' +\n",
              "          '<a target=\"_blank\" href=https://colab.research.google.com/notebooks/data_table.ipynb>data table notebook</a>'\n",
              "          + ' to learn more about interactive tables.';\n",
              "        element.innerHTML = '';\n",
              "        dataTable['output_type'] = 'display_data';\n",
              "        await google.colab.output.renderOutput(dataTable, element);\n",
              "        const docLink = document.createElement('div');\n",
              "        docLink.innerHTML = docLinkHtml;\n",
              "        element.appendChild(docLink);\n",
              "      }\n",
              "    </script>\n",
              "  </div>\n",
              "\n",
              "\n",
              "<div id=\"df-7f6e071a-f96e-482c-b161-3feaa0c74080\">\n",
              "  <button class=\"colab-df-quickchart\" onclick=\"quickchart('df-7f6e071a-f96e-482c-b161-3feaa0c74080')\"\n",
              "            title=\"Suggest charts\"\n",
              "            style=\"display:none;\">\n",
              "\n",
              "<svg xmlns=\"http://www.w3.org/2000/svg\" height=\"24px\"viewBox=\"0 0 24 24\"\n",
              "     width=\"24px\">\n",
              "    <g>\n",
              "        <path d=\"M19 3H5c-1.1 0-2 .9-2 2v14c0 1.1.9 2 2 2h14c1.1 0 2-.9 2-2V5c0-1.1-.9-2-2-2zM9 17H7v-7h2v7zm4 0h-2V7h2v10zm4 0h-2v-4h2v4z\"/>\n",
              "    </g>\n",
              "</svg>\n",
              "  </button>\n",
              "\n",
              "<style>\n",
              "  .colab-df-quickchart {\n",
              "      --bg-color: #E8F0FE;\n",
              "      --fill-color: #1967D2;\n",
              "      --hover-bg-color: #E2EBFA;\n",
              "      --hover-fill-color: #174EA6;\n",
              "      --disabled-fill-color: #AAA;\n",
              "      --disabled-bg-color: #DDD;\n",
              "  }\n",
              "\n",
              "  [theme=dark] .colab-df-quickchart {\n",
              "      --bg-color: #3B4455;\n",
              "      --fill-color: #D2E3FC;\n",
              "      --hover-bg-color: #434B5C;\n",
              "      --hover-fill-color: #FFFFFF;\n",
              "      --disabled-bg-color: #3B4455;\n",
              "      --disabled-fill-color: #666;\n",
              "  }\n",
              "\n",
              "  .colab-df-quickchart {\n",
              "    background-color: var(--bg-color);\n",
              "    border: none;\n",
              "    border-radius: 50%;\n",
              "    cursor: pointer;\n",
              "    display: none;\n",
              "    fill: var(--fill-color);\n",
              "    height: 32px;\n",
              "    padding: 0;\n",
              "    width: 32px;\n",
              "  }\n",
              "\n",
              "  .colab-df-quickchart:hover {\n",
              "    background-color: var(--hover-bg-color);\n",
              "    box-shadow: 0 1px 2px rgba(60, 64, 67, 0.3), 0 1px 3px 1px rgba(60, 64, 67, 0.15);\n",
              "    fill: var(--button-hover-fill-color);\n",
              "  }\n",
              "\n",
              "  .colab-df-quickchart-complete:disabled,\n",
              "  .colab-df-quickchart-complete:disabled:hover {\n",
              "    background-color: var(--disabled-bg-color);\n",
              "    fill: var(--disabled-fill-color);\n",
              "    box-shadow: none;\n",
              "  }\n",
              "\n",
              "  .colab-df-spinner {\n",
              "    border: 2px solid var(--fill-color);\n",
              "    border-color: transparent;\n",
              "    border-bottom-color: var(--fill-color);\n",
              "    animation:\n",
              "      spin 1s steps(1) infinite;\n",
              "  }\n",
              "\n",
              "  @keyframes spin {\n",
              "    0% {\n",
              "      border-color: transparent;\n",
              "      border-bottom-color: var(--fill-color);\n",
              "      border-left-color: var(--fill-color);\n",
              "    }\n",
              "    20% {\n",
              "      border-color: transparent;\n",
              "      border-left-color: var(--fill-color);\n",
              "      border-top-color: var(--fill-color);\n",
              "    }\n",
              "    30% {\n",
              "      border-color: transparent;\n",
              "      border-left-color: var(--fill-color);\n",
              "      border-top-color: var(--fill-color);\n",
              "      border-right-color: var(--fill-color);\n",
              "    }\n",
              "    40% {\n",
              "      border-color: transparent;\n",
              "      border-right-color: var(--fill-color);\n",
              "      border-top-color: var(--fill-color);\n",
              "    }\n",
              "    60% {\n",
              "      border-color: transparent;\n",
              "      border-right-color: var(--fill-color);\n",
              "    }\n",
              "    80% {\n",
              "      border-color: transparent;\n",
              "      border-right-color: var(--fill-color);\n",
              "      border-bottom-color: var(--fill-color);\n",
              "    }\n",
              "    90% {\n",
              "      border-color: transparent;\n",
              "      border-bottom-color: var(--fill-color);\n",
              "    }\n",
              "  }\n",
              "</style>\n",
              "\n",
              "  <script>\n",
              "    async function quickchart(key) {\n",
              "      const quickchartButtonEl =\n",
              "        document.querySelector('#' + key + ' button');\n",
              "      quickchartButtonEl.disabled = true;  // To prevent multiple clicks.\n",
              "      quickchartButtonEl.classList.add('colab-df-spinner');\n",
              "      try {\n",
              "        const charts = await google.colab.kernel.invokeFunction(\n",
              "            'suggestCharts', [key], {});\n",
              "      } catch (error) {\n",
              "        console.error('Error during call to suggestCharts:', error);\n",
              "      }\n",
              "      quickchartButtonEl.classList.remove('colab-df-spinner');\n",
              "      quickchartButtonEl.classList.add('colab-df-quickchart-complete');\n",
              "    }\n",
              "    (() => {\n",
              "      let quickchartButtonEl =\n",
              "        document.querySelector('#df-7f6e071a-f96e-482c-b161-3feaa0c74080 button');\n",
              "      quickchartButtonEl.style.display =\n",
              "        google.colab.kernel.accessAllowed ? 'block' : 'none';\n",
              "    })();\n",
              "  </script>\n",
              "</div>\n",
              "    </div>\n",
              "  </div>\n"
            ],
            "text/plain": [
              "                         ml_generate_text_llm_result  \\\n",
              "0  ## BigQuery: A Serverless Cloud Data Warehouse...   \n",
              "1  ## BQML: BigQuery Machine Learning\n",
              "\n",
              "BQML is a ...   \n",
              "2  ## BigQuery DataFrame \n",
              "\n",
              "A BigQuery DataFrame i...   \n",
              "\n",
              "                         ml_generate_text_rai_result ml_generate_text_status  \\\n",
              "0  [{\"category\":1,\"probability\":1,\"probability_sc...                           \n",
              "1  [{\"category\":1,\"probability\":1,\"probability_sc...                           \n",
              "2  [{\"category\":1,\"probability\":1,\"probability_sc...                           \n",
              "\n",
              "                        prompt  \n",
              "0            What is BigQuery?  \n",
              "1                What is BQML?  \n",
              "2  What is BigQuery DataFrame?  "
            ]
          },
          "execution_count": 5,
          "metadata": {},
          "output_type": "execute_result"
        }
      ],
      "source": [
        "pred = model.predict(bf_df).to_pandas()\n",
        "pred"
      ]
    },
    {
      "cell_type": "markdown",
      "metadata": {
        "id": "7EEgOIQMhnAR"
      },
      "source": [
        "## Fetch Predictions"
      ]
    },
    {
      "cell_type": "code",
      "execution_count": 7,
      "metadata": {
        "colab": {
          "base_uri": "https://localhost:8080/",
          "height": 122
        },
        "executionInfo": {
          "elapsed": 7,
          "status": "ok",
          "timestamp": 1724119637494,
          "user": {
            "displayName": "",
            "userId": ""
          },
          "user_tz": -480
        },
        "id": "rr9aokBQhnAS",
        "outputId": "32f88a59-d584-48b8-e262-c87df323f905"
      },
      "outputs": [
        {
          "data": {
            "application/vnd.google.colaboratory.intrinsic+json": {
              "type": "string"
            },
            "text/plain": [
              "\"## BQML: BigQuery Machine Learning\\n\\nBQML is a feature of Google BigQuery that allows users to create and run machine learning models directly within their BigQuery datasets. This means you can analyze your data and build predictive models without having to export it to another tool or platform. \\n\\nHere are some key features of BQML:\\n\\n* **No data movement:** Train models directly on your BigQuery data, without the need to export it. This saves time and effort, and avoids the potential downsides of moving large datasets around.\\n* **Familiar SQL interface:** Write your ML code using familiar SQL syntax, so you don't have to learn a new programming language.\\n* **Variety of model types:** Train linear regression, logistic regression, XGBoost, k-means clustering, and deep neural network models within BigQuery.\\n* **Built-in tools:** Use BigQuery's built-in functions for data exploration, visualization, and evaluation to gain insights from your models.\\n* **Scalability and security:** Leverage the power and security of Google Cloud Platform to train and run your models at scale.\\n\\n\\nHere are some potential uses for BQML:\\n\\n* **Predicting customer churn:** Train a model to identify customers who are likely to leave your service and take action to keep them.\\n* **Detecting fraud:** Analyze transactions to identify potentially fraudulent activity and prevent financial losses.\\n* **Analyzing customer sentiment:** Analyze customer reviews and social media data to understand how customers feel about your products or services.\\n* **Personalizing recommendations:** Recommend products or services to customers based on their past behavior and preferences.\\n* **Forecasting sales:** Predict future sales based on historical data and other factors.\\n\\n\\nIf you want to learn more about BQML, here are some resources:\\n\\n* **BigQuery Machine Learning documentation:** https://cloud.google.com/bigquery-ml/docs/\\n* **Quickstart for BQML:** https://cloud.google.com/bigquery-ml/docs/quickstarts/\\n* **BQML in Google Cloud:** https://cloud.google.com/bigquery/docs/tutorials/bqml_in_google_cloud\\n* **BQML in AI Platform:** https://cloud.google.com/vertex-ai/docs/samples/bqml-in-aiplatform\\n* **BQML for forecasting:** https://cloud.google.com/bigquery-ml/docs/tutorials/bqml-for-forecasting\\n\\n\\nI hope this answers your question about BQML!\""
            ]
          },
          "execution_count": 7,
          "metadata": {},
          "output_type": "execute_result"
        }
      ],
      "source": [
        "pred.iloc[1, 0]"
      ]
    }
  ],
  "metadata": {
    "colab": {
      "provenance": []
    },
    "kernelspec": {
      "display_name": "Python 3 (ipykernel)",
      "language": "python",
      "name": "python3"
    },
    "language_info": {
      "codemirror_mode": {
        "name": "ipython",
        "version": 3
      },
      "file_extension": ".py",
      "mimetype": "text/x-python",
      "name": "python",
      "nbconvert_exporter": "python",
      "pygments_lexer": "ipython3",
      "version": "3.10.9"
    }
  },
  "nbformat": 4,
  "nbformat_minor": 0
}
